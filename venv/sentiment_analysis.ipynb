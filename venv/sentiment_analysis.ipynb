{
 "cells": [
  {
   "cell_type": "heading",
   "metadata": {
    "collapsed": true
   },
   "level": 1,
   "source": [
    "Sentiment Analysis of tweets using python"
   ]
  },
  {
   "cell_type": "code",
   "execution_count": 5,
   "metadata": {},
   "outputs": [],
   "source": [
    "import numpy as np\n",
    "import pandas as pd\n",
    "import nltk\n",
    "from nltk.sentiment.vader import SentimentIntensityAnalyzer\n",
    "import random\n",
    "from nltk.corpus import wordnet as wn\n",
    "from nltk.stem.wordnet import WordNetLemmatizer\n",
    "import matplotlib.pyplot as plt\n",
    "import seaborn as sns"
   ]
  },
  {
   "cell_type": "heading",
   "metadata": {},
   "level": 2,
   "source": [
    "Preparing the Classifier and Data"
   ]
  },
  {
   "cell_type": "code",
   "execution_count": 7,
   "metadata": {},
   "outputs": [
    {
     "name": "stdout",
     "output_type": "stream",
     "text": [
      "[nltk_data] Error loading wordnet: <urlopen error [Errno 11001]\n[nltk_data]     getaddrinfo failed>\n[nltk_data] Error loading stopwords: <urlopen error [Errno 11001]\n[nltk_data]     getaddrinfo failed>\n(3236, 3)\n(3241, 3)\n"
     ]
    }
   ],
   "source": [
    "nltk.download('wordnet')\n",
    "nltk.download('stopwords')\n",
    "sid = SentimentIntensityAnalyzer()\n",
    "trump=pd.read_csv(\"D:\\Final Year Project\\Sentiment_analysis\\KrealDonaldTrump_tweets.csv\")\n",
    "obama=pd.read_csv(\"D:\\Final Year Project\\Sentiment_analysis\\KBarackObama_tweets.csv\")\n",
    "print(trump.shape)\n",
    "print(obama.shape)\n"
   ]
  },
  {
   "cell_type": "heading",
   "metadata": {},
   "level": 1,
   "source": [
    "Calculating polarity scores of each tweet and classifying the data"
   ]
  },
  {
   "cell_type": "code",
   "execution_count": null,
   "metadata": {
    "collapsed": false
   },
   "outputs": [
    {
     "data": {
      "image/png": "[encoded data removed]",
      "text/plain": [
       "<matplotlib.figure.Figure at 0x2791f309dd8>"
      ]
     },
     "metadata": {},
     "output_type": "display_data"
    }
   ],
   "source": [
    "trump_pos_count=0\n",
    "trump_neg_count=0\n",
    "trump_neu_count=0\n",
    "obama_pos_count = 0\n",
    "obama_neg_count = 0\n",
    "obama_neu_count = 0\n",
    "trump = trump[['text']].copy()\n",
    "trump.to_csv('D:\\\\Final Year Project\\\\Sentiment_analysis\\\\KrealDonaldTrump_tweets_topic.csv')\n",
    "obama=obama[['text']].copy()\n",
    "obama.to_csv('D:\\\\Final Year Project\\\\Sentiment_analysis\\\\KBarackObama_tweets_topic.csv')\n",
    "for i in range(0,trump.shape[0]):\n",
    "    #print(sid.polarity_scores(trump[\"text\"][i]))\n",
    "    p = sid.polarity_scores(trump['text'][i]).get('pos')\n",
    "    n = sid.polarity_scores(trump['text'][i]).get('neg')\n",
    "    ne = sid.polarity_scores(trump['text'][i]).get('neu')\n",
    "    if(p>n):\n",
    "        trump_pos_count+=1\n",
    "    elif(n>p):\n",
    "        trump_neg_count+=1\n",
    "    elif(ne==1.0):\n",
    "        trump_neu_count+=1\n",
    "for i in range(0,obama.shape[0]):\n",
    "    #print(sid.polarity_scores(obama['text'][i]))\n",
    "    p = sid.polarity_scores(obama['text'][i]).get('pos')\n",
    "    n = sid.polarity_scores(obama['text'][i]).get('neg')\n",
    "    ne = sid.polarity_scores(obama['text'][i]).get('neu')\n",
    "    if (p > n):\n",
    "        obama_pos_count += 1\n",
    "    elif (n > p):\n",
    "        obama_neg_count += 1\n",
    "    elif (ne == 1.0):\n",
    "        obama_neu_count += 1\n",
    "'''print(trump_pos_count)\n",
    "print(trump_neg_count)\n",
    "print(trump_neu_count)\n",
    "print(obama_pos_count)\n",
    "print(obama_neg_count)\n",
    "print(obama_neu_count)'''\n",
    "trump_list=(trump_pos_count,trump_neg_count,trump_neu_count)\n",
    "obama_list=(obama_pos_count,obama_neg_count,obama_neu_count)\n",
    "n_groups = 3\n",
    "\n",
    " \n",
    "# create plot\n",
    "fig, ax = plt.subplots()\n",
    "index = np.arange(n_groups)\n",
    "bar_width = 0.35\n",
    "opacity = 1\n",
    " \n",
    "rects1 = plt.bar(index, trump_list, bar_width,\n",
    "alpha=opacity,\n",
    "color='b',\n",
    "label='Donald Trump')\n",
    " \n",
    "rects2 = plt.bar(index + bar_width, obama_list, bar_width,\n",
    "alpha=opacity,\n",
    "color='g',\n",
    "label='Barack Obama')\n",
    "#plt.rcParams['figure.figsize'] = [5, 5]\n",
    "plt.xlabel('Sentiment')\n",
    "plt.ylabel('Number of Tweets')\n",
    "plt.title('Sentiment Analysis of Tweets')\n",
    "plt.xticks(index + bar_width, ('Positive', 'Negative', 'Neutral'))\n",
    "plt.legend()\n",
    " \n",
    "plt.tight_layout()\n",
    "plt.show()"
   ]
  },
  {
   "cell_type": "code",
   "execution_count": 9,
   "metadata": {},
   "outputs": [],
   "source": []
  },
  {
   "cell_type": "code",
   "execution_count": null,
   "metadata": {},
   "outputs": [],
   "source": []
  }
 ],
 "metadata": {
  "kernelspec": {
   "display_name": "Python 2",
   "language": "python",
   "name": "python2"
  },
  "language_info": {
   "codemirror_mode": {
    "name": "ipython",
    "version": 2
   },
   "file_extension": ".py",
   "mimetype": "text/x-python",
   "name": "python",
   "nbconvert_exporter": "python",
   "pygments_lexer": "ipython2",
   "version": "2.7.6"
  }
 },
 "nbformat": 4,
 "nbformat_minor": 0
}
